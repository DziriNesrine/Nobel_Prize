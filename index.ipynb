{
 "cells": [
  {
   "cell_type": "markdown",
   "metadata": {},
   "source": [
    "![img](../Nobel_Prize/Data/Prix_nobel_M.jpg)\n",
    "## Les Prix Nobel  &nbsp;&nbsp;&nbsp;&nbsp;&nbsp;&nbsp;&nbsp;&nbsp;&nbsp;&nbsp;&nbsp;&nbsp;&nbsp;&nbsp;&nbsp;&nbsp;&nbsp;&nbsp;&nbsp;&nbsp;&nbsp;&nbsp;&nbsp;&nbsp;&nbsp;&nbsp;&nbsp;&nbsp;&nbsp;&nbsp;&nbsp;&nbsp;&nbsp;&nbsp;&nbsp;&nbsp;&nbsp;&nbsp;&nbsp;&nbsp;&nbsp;&nbsp;&nbsp;&nbsp;&nbsp;&nbsp;&nbsp;&nbsp;&nbsp;&nbsp;&nbsp;&nbsp;&nbsp;&nbsp; \n",
    "<p>Le prix Nobel est peut-être le prix scientifique le plus connu au monde. Sauf pour l’honneur, le prestige, et l’argent substantiel de prix le récipiendaire obtient également une médaille d’or montrant Alfred Nobel (1833 - 1896) qui a établi le prix. Chaque année, il est remis à des scientifiques et à des universitaires dans les catégories de la chimie, de la littérature, de la physique, de la physiologie ou de la médecine, de l’économie et de la paix. </p>\n",
    "<p>La Fondation Nobel a mis à disposition un ensemble de données de tous les lauréats depuis le début du prix, en 1901, jusqu’en 2016. Chargeons-le et jetons un œil.</p>\n",
    "\n",
    "-------\n",
    "\n",
    "## Les étapes:\n",
    "1. Les prix Nobel\n",
    "2. Alors, qui reçoit le prix Nobel ?\n",
    "3. Domination des États-Unis\n",
    "4. La domination des États-Unis, visualisée\n",
    "5. Quel est le sexe d'un lauréat typique du prix Nobel ?\n",
    "6. Les premières femmes et hommes à remporter le Prix Nobel.\n",
    "7. Répéter les lauréats\n",
    "8. Lauréats du prix Nobel par âge\n",
    "9. Différences d'âge entre les catégories de prix\n",
    "10. Gagnants les plus âgés et les plus jeunes\n",
    "11. Nom du plus jeune gagnant !"
   ]
  },
  {
   "cell_type": "markdown",
   "metadata": {},
   "source": [
    "## 1. Les prix Nobel\n",
    "##### Importer les bibliothèques requises\n",
    "##### Lire l'ensemble de données à partir dedata/nobel.csv\n",
    "##### Afficher les six premières entrées denobel"
   ]
  },
  {
   "cell_type": "code",
   "execution_count": null,
   "metadata": {
    "vscode": {
     "languageId": "plaintext"
    }
   },
   "outputs": [],
   "source": [
    "#Chargement dans les bibliothèques requises\n",
    "import pandas as pd\n",
    "import seaborn as sns\n",
    "import numpy as np\n"
   ]
  },
  {
   "cell_type": "code",
   "execution_count": null,
   "metadata": {
    "vscode": {
     "languageId": "plaintext"
    }
   },
   "outputs": [],
   "source": []
  }
 ],
 "metadata": {
  "language_info": {
   "name": "python"
  },
  "orig_nbformat": 4
 },
 "nbformat": 4,
 "nbformat_minor": 2
}
